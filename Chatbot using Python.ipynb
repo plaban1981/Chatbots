{
 "cells": [
  {
   "cell_type": "markdown",
   "metadata": {},
   "source": [
    "# ChatterBot\n",
    "\n",
    "ChatterBot is a machine-learning based conversational dialog engine build in Python which makes it possible to generate responses based on collections of known conversations. \n",
    "\n",
    "\n",
    "The language independent design of ChatterBot allows it to be trained to speak any language."
   ]
  },
  {
   "cell_type": "markdown",
   "metadata": {},
   "source": [
    "# How it works\n",
    "\n",
    "An untrained instance of ChatterBot starts off with no knowledge of how to communicate. Each time a user enters a statement, the library saves the text that they entered and the text that the statement was in response to. As ChatterBot receives more input the number of responses that it can reply and the accuracy of each response in relation to the input statement increase. The program selects the closest matching response by searching for the closest matching known statement that matches the input, it then returns the most likely response to that statement based on how frequently each response is issued by the people the bot communicates with."
   ]
  },
  {
   "cell_type": "code",
   "execution_count": 1,
   "metadata": {},
   "outputs": [
    {
     "name": "stdout",
     "output_type": "stream",
     "text": [
      "Collecting chatterbot\n",
      "  Downloading https://files.pythonhosted.org/packages/af/76/6a5f62b13d857248910583ad75fd2884a2639b3cf165eae508e91b45df1b/ChatterBot-1.0.4-py2.py3-none-any.whl (66kB)\n",
      "Collecting mathparse<0.2,>=0.1 (from chatterbot)\n",
      "  Downloading https://files.pythonhosted.org/packages/c3/e5/4910fb85950cb960fcf3f5aabe1c8e55f5c9201788a1c1302b570a7e1f84/mathparse-0.1.2-py3-none-any.whl\n",
      "Requirement already satisfied: sqlalchemy<1.3,>=1.2 in d:\\users\\plaban_nayak\\appdata\\local\\continuum\\anaconda3\\lib\\site-packages (from chatterbot) (1.2.10)\n",
      "Collecting pymongo<4.0,>=3.3 (from chatterbot)\n",
      "  Downloading https://files.pythonhosted.org/packages/d8/25/44b0fc81668a883739b108d9bd0c95b24f0b0204cb2dc93e0f259e173670/pymongo-3.7.2-cp36-cp36m-win_amd64.whl (315kB)\n",
      "Collecting pint>=0.8.1 (from chatterbot)\n",
      "  Downloading https://files.pythonhosted.org/packages/15/9d/bf177ebbc57d25e9e296addc14a1303d1e34d7964af5df428a8332349c42/Pint-0.9-py2.py3-none-any.whl (138kB)\n",
      "Requirement already satisfied: nltk<4.0,>=3.2 in d:\\users\\plaban_nayak\\appdata\\local\\continuum\\anaconda3\\lib\\site-packages (from chatterbot) (3.3)\n",
      "Collecting chatterbot-corpus<1.3,>=1.2 (from chatterbot)\n",
      "  Downloading https://files.pythonhosted.org/packages/ed/19/f8b41daf36fe4b0f43e283a820362ffdb2c1128600ab4ee187e84262fa4d/chatterbot_corpus-1.2.0-py2.py3-none-any.whl (117kB)\n",
      "Requirement already satisfied: python-dateutil<2.8,>=2.7 in d:\\users\\plaban_nayak\\appdata\\local\\continuum\\anaconda3\\lib\\site-packages (from chatterbot) (2.7.3)\n",
      "Requirement already satisfied: six in d:\\users\\plaban_nayak\\appdata\\local\\continuum\\anaconda3\\lib\\site-packages (from nltk<4.0,>=3.2->chatterbot) (1.11.0)\n",
      "Requirement already satisfied: PyYAML<4.0,>=3.12 in d:\\users\\plaban_nayak\\appdata\\local\\continuum\\anaconda3\\lib\\site-packages (from chatterbot-corpus<1.3,>=1.2->chatterbot) (3.13)\n",
      "Installing collected packages: mathparse, pymongo, pint, chatterbot-corpus, chatterbot\n",
      "Successfully installed chatterbot-1.0.4 chatterbot-corpus-1.2.0 mathparse-0.1.2 pint-0.9 pymongo-3.7.2\n"
     ]
    },
    {
     "name": "stderr",
     "output_type": "stream",
     "text": [
      "fbprophet 0.4.post2 requires setuptools-git>=1.2, which is not installed.\n",
      "You are using pip version 10.0.1, however version 19.0.3 is available.\n",
      "You should consider upgrading via the 'python -m pip install --upgrade pip' command.\n"
     ]
    }
   ],
   "source": [
    "!pip install chatterbot"
   ]
  },
  {
   "cell_type": "code",
   "execution_count": 2,
   "metadata": {},
   "outputs": [
    {
     "name": "stdout",
     "output_type": "stream",
     "text": [
      "Requirement already satisfied: chatterbot-corpus in d:\\users\\plaban_nayak\\appdata\\local\\continuum\\anaconda3\\lib\\site-packages (1.2.0)\n",
      "Requirement already satisfied: PyYAML<4.0,>=3.12 in d:\\users\\plaban_nayak\\appdata\\local\\continuum\\anaconda3\\lib\\site-packages (from chatterbot-corpus) (3.13)\n"
     ]
    },
    {
     "name": "stderr",
     "output_type": "stream",
     "text": [
      "fbprophet 0.4.post2 requires setuptools-git>=1.2, which is not installed.\n",
      "You are using pip version 10.0.1, however version 19.0.3 is available.\n",
      "You should consider upgrading via the 'python -m pip install --upgrade pip' command.\n"
     ]
    }
   ],
   "source": [
    "!pip install chatterbot-corpus"
   ]
  },
  {
   "cell_type": "code",
   "execution_count": 1,
   "metadata": {},
   "outputs": [
    {
     "name": "stdout",
     "output_type": "stream",
     "text": [
      "[nltk_data] Downloading package averaged_perceptron_tagger to\n",
      "[nltk_data]     C:\\Users\\Plaban_Nayak\\AppData\\Roaming\\nltk_data...\n",
      "[nltk_data]   Package averaged_perceptron_tagger is already up-to-\n",
      "[nltk_data]       date!\n",
      "[nltk_data] Downloading package punkt to\n",
      "[nltk_data]     C:\\Users\\Plaban_Nayak\\AppData\\Roaming\\nltk_data...\n",
      "[nltk_data]   Package punkt is already up-to-date!\n",
      "[nltk_data] Downloading package stopwords to\n",
      "[nltk_data]     C:\\Users\\Plaban_Nayak\\AppData\\Roaming\\nltk_data...\n",
      "[nltk_data]   Package stopwords is already up-to-date!\n"
     ]
    }
   ],
   "source": [
    "from chatterbot import ChatBot #import the chatbot\n",
    "from chatterbot.trainers import ChatterBotCorpusTrainer\n",
    "import os\n",
    "\n",
    "bot= ChatBot('Bot')\n",
    "trainer = ChatterBotCorpusTrainer(bot)\n",
    "\n"
   ]
  },
  {
   "cell_type": "code",
   "execution_count": 9,
   "metadata": {},
   "outputs": [
    {
     "name": "stdout",
     "output_type": "stream",
     "text": [
      "1.0.4\n"
     ]
    }
   ],
   "source": [
    "!python -m chatterbot --version"
   ]
  },
  {
   "cell_type": "code",
   "execution_count": 6,
   "metadata": {},
   "outputs": [],
   "source": [
    "corpus_path  = 'D:/Users/Plaban_Nayak/AppData/Local/Continuum/anaconda3/Lib/site-packages/chatterbot_corpus/data/english/'"
   ]
  },
  {
   "cell_type": "code",
   "execution_count": 7,
   "metadata": {},
   "outputs": [
    {
     "name": "stdout",
     "output_type": "stream",
     "text": [
      "List Trainer: [####################] 100%\n",
      "List Trainer: [####################] 100%\n",
      "List Trainer: [####################] 100%\n",
      "List Trainer: [####################] 100%\n",
      "List Trainer: [####################] 100%\n",
      "List Trainer: [####################] 100%\n",
      "List Trainer: [####################] 100%\n",
      "List Trainer: [####################] 100%\n",
      "List Trainer: [####################] 100%\n",
      "List Trainer: [####################] 100%\n",
      "List Trainer: [####################] 100%\n",
      "List Trainer: [####################] 100%\n",
      "List Trainer: [####################] 100%\n",
      "List Trainer: [####################] 100%\n",
      "List Trainer: [####################] 100%\n",
      "List Trainer: [####################] 100%\n",
      "List Trainer: [####################] 100%\n",
      "List Trainer: [####################] 100%\n",
      "List Trainer: [####################] 100%\n"
     ]
    }
   ],
   "source": [
    "for file in os.listdir(corpus_path):\n",
    "    trainer.train(corpus_path + file)"
   ]
  },
  {
   "cell_type": "code",
   "execution_count": 23,
   "metadata": {},
   "outputs": [
    {
     "name": "stdout",
     "output_type": "stream",
     "text": [
      "You:what is data science\n",
      "what is data science\n",
      "ChatBot: What language are you written in?\n",
      "You:Python\n",
      "Python\n",
      "ChatBot: Sadness is not an emotion that I like to experience.\n",
      "You:what\n",
      "what\n",
      "ChatBot: Blue\n",
      "You:sky\n",
      "sky\n",
      "ChatBot: it's about how resources are used to produce things to fill people's wants and needs.\n",
      "You:Ai\n",
      "Ai\n",
      "ChatBot: What do you like to do?\n",
      "You:Bye\n",
      "Bye\n",
      "ChatBot: Bye\n"
     ]
    }
   ],
   "source": [
    "while True:\n",
    "    message = input('You:')\n",
    "    print(message)\n",
    "    if message.strip() == 'Bye':\n",
    "        print('ChatBot: Bye')\n",
    "        break\n",
    "    else:\n",
    "        reply = bot.get_response(message)\n",
    "        print('ChatBot:', reply)"
   ]
  },
  {
   "cell_type": "code",
   "execution_count": 4,
   "metadata": {},
   "outputs": [
    {
     "name": "stdout",
     "output_type": "stream",
     "text": [
      "[nltk_data] Downloading package averaged_perceptron_tagger to\n",
      "[nltk_data]     C:\\Users\\Plaban_Nayak\\AppData\\Roaming\\nltk_data...\n",
      "[nltk_data]   Package averaged_perceptron_tagger is already up-to-\n",
      "[nltk_data]       date!\n",
      "[nltk_data] Downloading package punkt to\n",
      "[nltk_data]     C:\\Users\\Plaban_Nayak\\AppData\\Roaming\\nltk_data...\n",
      "[nltk_data]   Package punkt is already up-to-date!\n",
      "[nltk_data] Downloading package stopwords to\n",
      "[nltk_data]     C:\\Users\\Plaban_Nayak\\AppData\\Roaming\\nltk_data...\n",
      "[nltk_data]   Package stopwords is already up-to-date!\n",
      "List Trainer: [####################] 100%\n"
     ]
    }
   ],
   "source": [
    "\n",
    "from chatterbot import ChatBot\n",
    "from chatterbot.trainers import ListTrainer\n",
    "# Create a new chat bot named Charlie\n",
    "chatbot = ChatBot('Charlie')\n",
    "trainer = ListTrainer(chatbot)\n",
    "\n",
    "conversation = [\n",
    "    \"Hello\",\n",
    "    \"Hi there!\",\n",
    "    \"How are you doing?\",\n",
    "    \"I'm doing great.\",\n",
    "    \"That is good to hear\",\n",
    "    \"Thank you.\",\n",
    "    \"You're welcome.\",\n",
    "    \"What is the capital of India?\",\n",
    "    \"New Delhi\"\n",
    "    \n",
    "]\n",
    "bot_trainer = ListTrainer(chatbot)\n",
    "bot_trainer.train(conversation)"
   ]
  },
  {
   "cell_type": "code",
   "execution_count": 11,
   "metadata": {},
   "outputs": [
    {
     "name": "stdout",
     "output_type": "stream",
     "text": [
      "You:Hi\n",
      "Hi\n",
      "ChatBot: How are you doing?\n",
      "You:Hello\n",
      "Hello\n",
      "ChatBot: Hi\n",
      "You:How are you doing\n",
      "How are you doing\n",
      "ChatBot: I am doing well.\n",
      "You:Thanks\n",
      "Thanks\n",
      "ChatBot: s\n",
      "You:What is AI?\n",
      "What is AI?\n",
      "ChatBot: Artificial Intelligence is the branch of engineering and science devoted to constructing machines that think.\n",
      "You:what is the capital of INDIA\n",
      "what is the capital of INDIA\n",
      "ChatBot: New Delhi\n",
      "You:What is the capital of America\n",
      "What is the capital of America\n",
      "ChatBot: New Delhi\n",
      "You:Wrong\n",
      "Wrong\n",
      "ChatBot: i\n",
      "You:not correct\n",
      "not correct\n",
      "ChatBot: a\n",
      "You:ok\n",
      "ok\n",
      "ChatBot: Yes I am inspired by commander Data's artificial personality.\n",
      "You:Cool\n",
      "Cool\n",
      "ChatBot: b\n",
      "You:Thnaks\n",
      "Thnaks\n",
      "ChatBot: t\n",
      "You:Thanks\n",
      "Thanks\n",
      "ChatBot: t\n",
      "You:bye\n",
      "bye\n",
      "ChatBot: did tell gossips to anybody\n",
      "You:Bye\n",
      "Bye\n",
      "ChatBot: Bye\n"
     ]
    }
   ],
   "source": [
    "while True:\n",
    "    message = input('You:')\n",
    "    print(message)\n",
    "    if message.strip() == 'Bye':\n",
    "        print('ChatBot: Bye')\n",
    "        break\n",
    "    else:\n",
    "        reply = chatbot.get_response(message)\n",
    "        print('ChatBot:', reply)"
   ]
  }
 ],
 "metadata": {
  "kernelspec": {
   "display_name": "Python 3",
   "language": "python",
   "name": "python3"
  },
  "language_info": {
   "codemirror_mode": {
    "name": "ipython",
    "version": 3
   },
   "file_extension": ".py",
   "mimetype": "text/x-python",
   "name": "python",
   "nbconvert_exporter": "python",
   "pygments_lexer": "ipython3",
   "version": "3.6.6"
  }
 },
 "nbformat": 4,
 "nbformat_minor": 2
}
